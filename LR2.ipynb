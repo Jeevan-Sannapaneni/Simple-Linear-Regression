{
 "cells": [
  {
   "cell_type": "code",
   "execution_count": 1,
   "id": "f80001b1-852b-41ce-8dec-69a49eb5f7c8",
   "metadata": {},
   "outputs": [],
   "source": [
    "import pandas as pd\n",
    "import numpy as np\n",
    "import matplotlib.pyplot as plt"
   ]
  },
  {
   "cell_type": "code",
   "execution_count": 88,
   "id": "85099064-a9dc-482d-bf85-325f5f3c10b1",
   "metadata": {},
   "outputs": [],
   "source": [
    "df = pd.read_csv('NewspaperData.csv')"
   ]
  },
  {
   "cell_type": "code",
   "execution_count": 40,
   "id": "4f35dc8f-9a6b-44b5-8319-d71c8600aaaa",
   "metadata": {},
   "outputs": [
    {
     "data": {
      "text/html": [
       "<div>\n",
       "<style scoped>\n",
       "    .dataframe tbody tr th:only-of-type {\n",
       "        vertical-align: middle;\n",
       "    }\n",
       "\n",
       "    .dataframe tbody tr th {\n",
       "        vertical-align: top;\n",
       "    }\n",
       "\n",
       "    .dataframe thead th {\n",
       "        text-align: right;\n",
       "    }\n",
       "</style>\n",
       "<table border=\"1\" class=\"dataframe\">\n",
       "  <thead>\n",
       "    <tr style=\"text-align: right;\">\n",
       "      <th></th>\n",
       "      <th>Newspaper</th>\n",
       "      <th>daily</th>\n",
       "      <th>sunday</th>\n",
       "    </tr>\n",
       "  </thead>\n",
       "  <tbody>\n",
       "    <tr>\n",
       "      <th>0</th>\n",
       "      <td>Baltimore Sun</td>\n",
       "      <td>391.952</td>\n",
       "      <td>488.506</td>\n",
       "    </tr>\n",
       "    <tr>\n",
       "      <th>1</th>\n",
       "      <td>Boston Globe</td>\n",
       "      <td>516.981</td>\n",
       "      <td>798.298</td>\n",
       "    </tr>\n",
       "    <tr>\n",
       "      <th>2</th>\n",
       "      <td>Boston Herald</td>\n",
       "      <td>355.628</td>\n",
       "      <td>235.084</td>\n",
       "    </tr>\n",
       "    <tr>\n",
       "      <th>3</th>\n",
       "      <td>Charlotte Observer</td>\n",
       "      <td>238.555</td>\n",
       "      <td>299.451</td>\n",
       "    </tr>\n",
       "    <tr>\n",
       "      <th>4</th>\n",
       "      <td>Chicago Sun Times</td>\n",
       "      <td>537.780</td>\n",
       "      <td>559.093</td>\n",
       "    </tr>\n",
       "  </tbody>\n",
       "</table>\n",
       "</div>"
      ],
      "text/plain": [
       "            Newspaper    daily   sunday\n",
       "0       Baltimore Sun  391.952  488.506\n",
       "1        Boston Globe  516.981  798.298\n",
       "2       Boston Herald  355.628  235.084\n",
       "3  Charlotte Observer  238.555  299.451\n",
       "4   Chicago Sun Times  537.780  559.093"
      ]
     },
     "execution_count": 40,
     "metadata": {},
     "output_type": "execute_result"
    }
   ],
   "source": [
    "df.head()"
   ]
  },
  {
   "cell_type": "code",
   "execution_count": 4,
   "id": "851c5401-fdb7-40d9-acdd-88c0eb8c91a4",
   "metadata": {},
   "outputs": [
    {
     "name": "stdout",
     "output_type": "stream",
     "text": [
      "<class 'pandas.core.frame.DataFrame'>\n",
      "RangeIndex: 34 entries, 0 to 33\n",
      "Data columns (total 3 columns):\n",
      " #   Column     Non-Null Count  Dtype  \n",
      "---  ------     --------------  -----  \n",
      " 0   Newspaper  34 non-null     object \n",
      " 1   daily      34 non-null     float64\n",
      " 2   sunday     34 non-null     float64\n",
      "dtypes: float64(2), object(1)\n",
      "memory usage: 948.0+ bytes\n"
     ]
    }
   ],
   "source": [
    "df.info()"
   ]
  },
  {
   "cell_type": "code",
   "execution_count": 5,
   "id": "09ca8e98-a131-4995-8de5-75c8c7c6f862",
   "metadata": {},
   "outputs": [
    {
     "data": {
      "text/html": [
       "<div>\n",
       "<style scoped>\n",
       "    .dataframe tbody tr th:only-of-type {\n",
       "        vertical-align: middle;\n",
       "    }\n",
       "\n",
       "    .dataframe tbody tr th {\n",
       "        vertical-align: top;\n",
       "    }\n",
       "\n",
       "    .dataframe thead th {\n",
       "        text-align: right;\n",
       "    }\n",
       "</style>\n",
       "<table border=\"1\" class=\"dataframe\">\n",
       "  <thead>\n",
       "    <tr style=\"text-align: right;\">\n",
       "      <th></th>\n",
       "      <th>daily</th>\n",
       "      <th>sunday</th>\n",
       "    </tr>\n",
       "  </thead>\n",
       "  <tbody>\n",
       "    <tr>\n",
       "      <th>count</th>\n",
       "      <td>34.000000</td>\n",
       "      <td>34.000000</td>\n",
       "    </tr>\n",
       "    <tr>\n",
       "      <th>mean</th>\n",
       "      <td>430.962471</td>\n",
       "      <td>591.202412</td>\n",
       "    </tr>\n",
       "    <tr>\n",
       "      <th>std</th>\n",
       "      <td>269.211470</td>\n",
       "      <td>376.418051</td>\n",
       "    </tr>\n",
       "    <tr>\n",
       "      <th>min</th>\n",
       "      <td>133.239000</td>\n",
       "      <td>202.614000</td>\n",
       "    </tr>\n",
       "    <tr>\n",
       "      <th>25%</th>\n",
       "      <td>233.021500</td>\n",
       "      <td>327.769500</td>\n",
       "    </tr>\n",
       "    <tr>\n",
       "      <th>50%</th>\n",
       "      <td>355.235500</td>\n",
       "      <td>436.712500</td>\n",
       "    </tr>\n",
       "    <tr>\n",
       "      <th>75%</th>\n",
       "      <td>516.616500</td>\n",
       "      <td>699.735250</td>\n",
       "    </tr>\n",
       "    <tr>\n",
       "      <th>max</th>\n",
       "      <td>1209.225000</td>\n",
       "      <td>1762.015000</td>\n",
       "    </tr>\n",
       "  </tbody>\n",
       "</table>\n",
       "</div>"
      ],
      "text/plain": [
       "             daily       sunday\n",
       "count    34.000000    34.000000\n",
       "mean    430.962471   591.202412\n",
       "std     269.211470   376.418051\n",
       "min     133.239000   202.614000\n",
       "25%     233.021500   327.769500\n",
       "50%     355.235500   436.712500\n",
       "75%     516.616500   699.735250\n",
       "max    1209.225000  1762.015000"
      ]
     },
     "execution_count": 5,
     "metadata": {},
     "output_type": "execute_result"
    }
   ],
   "source": [
    "df.describe()"
   ]
  },
  {
   "cell_type": "code",
   "execution_count": 6,
   "id": "337fb4d6-795d-47b0-9e1a-d318148e592e",
   "metadata": {},
   "outputs": [
    {
     "data": {
      "image/png": "[encoded data removed]",
      "text/plain": [
       "<Figure size 640x480 with 1 Axes>"
      ]
     },
     "metadata": {},
     "output_type": "display_data"
    }
   ],
   "source": [
    "plt.boxplot(df['sunday'])\n",
    "plt.show()"
   ]
  },
  {
   "cell_type": "code",
   "execution_count": 7,
   "id": "62c0aedc-0066-41e4-b3ff-8565ee2bb514",
   "metadata": {},
   "outputs": [
    {
     "data": {
      "text/plain": [
       "327.7695"
      ]
     },
     "execution_count": 7,
     "metadata": {},
     "output_type": "execute_result"
    }
   ],
   "source": [
    "Q1 = np.percentile(df['sunday'],25)\n",
    "Q1"
   ]
  },
  {
   "cell_type": "code",
   "execution_count": 8,
   "id": "a9cf0899-ad4c-442a-bafa-a377c34e7cab",
   "metadata": {},
   "outputs": [
    {
     "data": {
      "text/plain": [
       "699.73525"
      ]
     },
     "execution_count": 8,
     "metadata": {},
     "output_type": "execute_result"
    }
   ],
   "source": [
    "Q3 = np.percentile(df['sunday'],75)\n",
    "Q3"
   ]
  },
  {
   "cell_type": "code",
   "execution_count": 9,
   "id": "c1dca759-67b5-42a7-9f31-c622b00eb1d6",
   "metadata": {},
   "outputs": [
    {
     "data": {
      "text/plain": [
       "371.96574999999996"
      ]
     },
     "execution_count": 9,
     "metadata": {},
     "output_type": "execute_result"
    }
   ],
   "source": [
    "IQR = Q3-Q1\n",
    "IQR"
   ]
  },
  {
   "cell_type": "code",
   "execution_count": 10,
   "id": "653e8502-0dd3-4e45-9ffc-576cc16a1472",
   "metadata": {},
   "outputs": [
    {
     "data": {
      "text/plain": [
       "1257.683875"
      ]
     },
     "execution_count": 10,
     "metadata": {},
     "output_type": "execute_result"
    }
   ],
   "source": [
    "LW = Q3+1.5*IQR\n",
    "LW"
   ]
  },
  {
   "cell_type": "code",
   "execution_count": 11,
   "id": "934c12fb-3ad8-4371-a6e0-6242132ed958",
   "metadata": {},
   "outputs": [
    {
     "data": {
      "text/plain": [
       "-230.179125"
      ]
     },
     "execution_count": 11,
     "metadata": {},
     "output_type": "execute_result"
    }
   ],
   "source": [
    "UW = Q1-1.5*IQR\n",
    "UW"
   ]
  },
  {
   "cell_type": "code",
   "execution_count": 12,
   "id": "2f3fc620-b656-4a78-9057-6105fbbb2f33",
   "metadata": {},
   "outputs": [
    {
     "data": {
      "text/plain": [
       "13    1531.527\n",
       "18    1762.015\n",
       "Name: sunday, dtype: float64"
      ]
     },
     "execution_count": 12,
     "metadata": {},
     "output_type": "execute_result"
    }
   ],
   "source": [
    "df['sunday'][df['sunday']>LW]"
   ]
  },
  {
   "cell_type": "code",
   "execution_count": 13,
   "id": "2e88e745-fa1a-4168-a700-6413f1e4f605",
   "metadata": {},
   "outputs": [
    {
     "data": {
      "text/plain": [
       "2"
      ]
     },
     "execution_count": 13,
     "metadata": {},
     "output_type": "execute_result"
    }
   ],
   "source": [
    "len(df['sunday'][df['sunday']>LW])"
   ]
  },
  {
   "cell_type": "code",
   "execution_count": 89,
   "id": "1c76fdb8-f59c-4cef-a3cd-25aed26cd524",
   "metadata": {},
   "outputs": [],
   "source": [
    "cleaned_data = df.drop([13,18] ,inplace = True)"
   ]
  },
  {
   "cell_type": "code",
   "execution_count": 91,
   "id": "ef3579c5-ea75-440e-aa30-287b619466dd",
   "metadata": {},
   "outputs": [],
   "source": [
    "df['sunday'] = cleaned_data"
   ]
  },
  {
   "cell_type": "code",
   "execution_count": 36,
   "id": "7a808e51-4603-4d2a-a878-67f932d4e103",
   "metadata": {},
   "outputs": [],
   "source": [
    "from sklearn.linear_model import LinearRegression"
   ]
  },
  {
   "cell_type": "code",
   "execution_count": 37,
   "id": "eeb688ba-ed89-4bee-855d-de950022022d",
   "metadata": {},
   "outputs": [],
   "source": [
    "LR = LinearRegression()"
   ]
  },
  {
   "cell_type": "code",
   "execution_count": 55,
   "id": "aeeaca4a-ca08-4417-a243-dd6adbe85c9a",
   "metadata": {},
   "outputs": [],
   "source": [
    "X = df['daily'].round(2)\n",
    "Y = df['sunday'].round(2)"
   ]
  },
  {
   "cell_type": "code",
   "execution_count": 58,
   "id": "1240c227-05b7-453c-a06a-88545989a17a",
   "metadata": {},
   "outputs": [
    {
     "name": "stdout",
     "output_type": "stream",
     "text": [
      "Intercept: 13.833506202488707\n",
      "Slope: 1.3397192322732832\n"
     ]
    }
   ],
   "source": [
    "from sklearn.linear_model import LinearRegression\n",
    "import numpy as np\n",
    "X = df['daily'].round(2).values.reshape(-1, 1)  # shape: (n_samples, 1)\n",
    "Y = df['sunday'].round(2).values                # shape: (n_samples,)\n",
    "LR = LinearRegression()\n",
    "LR.fit(X, Y)\n",
    "print(\"Intercept:\", LR.intercept_)\n",
    "print(\"Slope:\", LR.coef_[0])"
   ]
  },
  {
   "cell_type": "code",
   "execution_count": 63,
   "id": "4371fc6d-412f-4e16-8e89-b5f7a1a17508",
   "metadata": {},
   "outputs": [
    {
     "data": {
      "text/plain": [
       "array([ 538.93645929,  706.4415549 ,  490.27785678,  333.43692625,\n",
       "        734.30771493,  996.89268446,  280.20988116,  352.27337866,\n",
       "        290.0836119 ,  323.54979832,  616.38562811,  400.43628506,\n",
       "        262.6729564 , 1573.78918307,  609.44588249,  566.96338563,\n",
       "        378.61225877, 1061.22600199, 1633.84879625, 1119.78512964,\n",
       "        313.59568442,  489.21947858,  704.48556482,  309.18800815,\n",
       "        466.21649936,  277.91896127,  192.33769671,  514.90189627,\n",
       "        380.70222077,  777.95576752,  538.0522446 ,  284.26923043,\n",
       "        444.72740288, 1137.72397016])"
      ]
     },
     "execution_count": 63,
     "metadata": {},
     "output_type": "execute_result"
    }
   ],
   "source": [
    "y_pred=LR.predict(X)\n",
    "y_pred"
   ]
  },
  {
   "cell_type": "code",
   "execution_count": 77,
   "id": "b34bd007-0b9d-4c4c-ae32-1ad8a4fb1b63",
   "metadata": {},
   "outputs": [],
   "source": [
    "from sklearn.metrics import mean_squared_error,r2_score"
   ]
  },
  {
   "cell_type": "code",
   "execution_count": 67,
   "id": "ad150d82-e83b-42dd-a039-69ae0c55ccd7",
   "metadata": {},
   "outputs": [
    {
     "data": {
      "text/plain": [
       "11269.045895157984"
      ]
     },
     "execution_count": 67,
     "metadata": {},
     "output_type": "execute_result"
    }
   ],
   "source": [
    "mse = mean_squared_error(y_pred,Y)\n",
    "mse"
   ]
  },
  {
   "cell_type": "code",
   "execution_count": 74,
   "id": "d0f15c22-b4fe-4467-8995-ac15e49e7841",
   "metadata": {},
   "outputs": [
    {
     "data": {
      "text/plain": [
       "[]"
      ]
     },
     "execution_count": 74,
     "metadata": {},
     "output_type": "execute_result"
    },
    {
     "data": {
      "image/png": "[encoded data removed]",
      "text/plain": [
       "<Figure size 640x480 with 1 Axes>"
      ]
     },
     "metadata": {},
     "output_type": "display_data"
    }
   ],
   "source": [
    "plt.scatter(X,Y)\n",
    "plt.scatter(y_pred,Y,color='red')\n",
    "plt.plot(color='black')"
   ]
  },
  {
   "cell_type": "code",
   "execution_count": 75,
   "id": "9cf58e8b-0d2f-485d-8e14-76550f759e8f",
   "metadata": {},
   "outputs": [],
   "source": [
    "rmse =np.sqrt(mse)"
   ]
  },
  {
   "cell_type": "code",
   "execution_count": 76,
   "id": "b8c8d01d-8612-4b11-b19d-c203e5e5ebfe",
   "metadata": {},
   "outputs": [
    {
     "data": {
      "text/plain": [
       "106.15576242087843"
      ]
     },
     "execution_count": 76,
     "metadata": {},
     "output_type": "execute_result"
    }
   ],
   "source": [
    "rmse"
   ]
  },
  {
   "cell_type": "code",
   "execution_count": 78,
   "id": "0043448d-5c63-452b-acc3-49c25b873f7d",
   "metadata": {},
   "outputs": [],
   "source": [
    "r2score = r2_score(y_pred,Y)"
   ]
  },
  {
   "cell_type": "code",
   "execution_count": 79,
   "id": "5fc23ebb-3e64-4a5c-871e-13a4c7d4eef9",
   "metadata": {},
   "outputs": [
    {
     "data": {
      "text/plain": [
       "0.9107438821414465"
      ]
     },
     "execution_count": 79,
     "metadata": {},
     "output_type": "execute_result"
    }
   ],
   "source": [
    "r2score"
   ]
  },
  {
   "cell_type": "code",
   "execution_count": 97,
   "id": "8dc5e629-2ee1-49c3-b381-ba9a190866ba",
   "metadata": {},
   "outputs": [
    {
     "data": {
      "text/plain": [
       "32"
      ]
     },
     "execution_count": 97,
     "metadata": {},
     "output_type": "execute_result"
    }
   ],
   "source": [
    "len(df['sunday'])"
   ]
  },
  {
   "cell_type": "code",
   "execution_count": 102,
   "id": "56920090-91aa-46ee-b4e1-848ad451fda7",
   "metadata": {},
   "outputs": [
    {
     "data": {
      "text/plain": [
       "array([706.44289462])"
      ]
     },
     "execution_count": 102,
     "metadata": {},
     "output_type": "execute_result"
    }
   ],
   "source": [
    "LR.predict([[516.981]])"
   ]
  },
  {
   "cell_type": "code",
   "execution_count": null,
   "id": "2f871919-130f-409d-bf2a-9c5c67fdba25",
   "metadata": {},
   "outputs": [],
   "source": []
  }
 ],
 "metadata": {
  "kernelspec": {
   "display_name": "Python 3 (ipykernel)",
   "language": "python",
   "name": "python3"
  },
  "language_info": {
   "codemirror_mode": {
    "name": "ipython",
    "version": 3
   },
   "file_extension": ".py",
   "mimetype": "text/x-python",
   "name": "python",
   "nbconvert_exporter": "python",
   "pygments_lexer": "ipython3",
   "version": "3.12.7"
  }
 },
 "nbformat": 4,
 "nbformat_minor": 5
}
