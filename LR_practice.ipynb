{
 "cells": [
  {
   "cell_type": "code",
   "execution_count": 1,
   "id": "6df06b6e-32ad-44fc-b7fd-e13ad5095fc0",
   "metadata": {},
   "outputs": [],
   "source": [
    "import pandas as pd\n",
    "import numpy as np\n",
    "import matplotlib.pyplot as plt"
   ]
  },
  {
   "cell_type": "code",
   "execution_count": 2,
   "id": "81b5ab9e-5f87-4838-9baa-fcfa6f5cb699",
   "metadata": {},
   "outputs": [
    {
     "data": {
      "text/html": [
       "<div>\n",
       "<style scoped>\n",
       "    .dataframe tbody tr th:only-of-type {\n",
       "        vertical-align: middle;\n",
       "    }\n",
       "\n",
       "    .dataframe tbody tr th {\n",
       "        vertical-align: top;\n",
       "    }\n",
       "\n",
       "    .dataframe thead th {\n",
       "        text-align: right;\n",
       "    }\n",
       "</style>\n",
       "<table border=\"1\" class=\"dataframe\">\n",
       "  <thead>\n",
       "    <tr style=\"text-align: right;\">\n",
       "      <th></th>\n",
       "      <th>Newspaper</th>\n",
       "      <th>daily</th>\n",
       "      <th>sunday</th>\n",
       "    </tr>\n",
       "  </thead>\n",
       "  <tbody>\n",
       "    <tr>\n",
       "      <th>0</th>\n",
       "      <td>Baltimore Sun</td>\n",
       "      <td>391.952</td>\n",
       "      <td>488.506</td>\n",
       "    </tr>\n",
       "    <tr>\n",
       "      <th>1</th>\n",
       "      <td>Boston Globe</td>\n",
       "      <td>516.981</td>\n",
       "      <td>798.298</td>\n",
       "    </tr>\n",
       "    <tr>\n",
       "      <th>2</th>\n",
       "      <td>Boston Herald</td>\n",
       "      <td>355.628</td>\n",
       "      <td>235.084</td>\n",
       "    </tr>\n",
       "    <tr>\n",
       "      <th>3</th>\n",
       "      <td>Charlotte Observer</td>\n",
       "      <td>238.555</td>\n",
       "      <td>299.451</td>\n",
       "    </tr>\n",
       "    <tr>\n",
       "      <th>4</th>\n",
       "      <td>Chicago Sun Times</td>\n",
       "      <td>537.780</td>\n",
       "      <td>559.093</td>\n",
       "    </tr>\n",
       "  </tbody>\n",
       "</table>\n",
       "</div>"
      ],
      "text/plain": [
       "            Newspaper    daily   sunday\n",
       "0       Baltimore Sun  391.952  488.506\n",
       "1        Boston Globe  516.981  798.298\n",
       "2       Boston Herald  355.628  235.084\n",
       "3  Charlotte Observer  238.555  299.451\n",
       "4   Chicago Sun Times  537.780  559.093"
      ]
     },
     "execution_count": 2,
     "metadata": {},
     "output_type": "execute_result"
    }
   ],
   "source": [
    "df = pd.read_csv('NewspaperData.csv')\n",
    "df.head()"
   ]
  },
  {
   "cell_type": "code",
   "execution_count": 3,
   "id": "d603cb5d-97d3-4ea2-939f-bf73ea56dad4",
   "metadata": {},
   "outputs": [],
   "source": [
    "X = df[['daily']]\n",
    "Y = df[['sunday']]"
   ]
  },
  {
   "cell_type": "code",
   "execution_count": 4,
   "id": "067abb7e-0b57-44f0-b69a-7b82f5315c62",
   "metadata": {},
   "outputs": [],
   "source": [
    "from sklearn.model_selection import train_test_split"
   ]
  },
  {
   "cell_type": "code",
   "execution_count": 19,
   "id": "3ebe1d34-2fbe-481c-8acb-9b927750035d",
   "metadata": {},
   "outputs": [],
   "source": [
    "X_train, X_test, Y_train, Y_test = train_test_split(X, Y, test_size=0.30)"
   ]
  },
  {
   "cell_type": "code",
   "execution_count": 20,
   "id": "5221dc39-be5c-4758-8ddb-968b928ff104",
   "metadata": {},
   "outputs": [],
   "source": [
    "from sklearn.linear_model import LinearRegression\n",
    "from sklearn.metrics import mean_squared_error,r2_score,confusion_matrix"
   ]
  },
  {
   "cell_type": "code",
   "execution_count": 21,
   "id": "7153ca12-dde7-4845-8c46-ffaf7096387e",
   "metadata": {},
   "outputs": [],
   "source": [
    "LR = LinearRegression()"
   ]
  },
  {
   "cell_type": "code",
   "execution_count": 22,
   "id": "382b837f-18ee-4701-8fc7-ef2ea894490c",
   "metadata": {},
   "outputs": [],
   "source": [
    "LR.fit(X_train,Y_train)\n",
    "Y_train_pred = LR.predict(X_train)\n",
    "Y_test_pred = LR.predict(X_test)"
   ]
  },
  {
   "cell_type": "code",
   "execution_count": 23,
   "id": "39733f56-751d-48ca-99ad-22a33a0895b7",
   "metadata": {},
   "outputs": [],
   "source": [
    "Y_pred = LR.predict(X_train)"
   ]
  },
  {
   "cell_type": "code",
   "execution_count": 24,
   "id": "e874a98d-4aff-403d-b0b1-680f19d6d7d5",
   "metadata": {},
   "outputs": [
    {
     "data": {
      "text/plain": [
       "array([[ 368.58006096],\n",
       "       [ 207.1783402 ],\n",
       "       [ 483.56011329],\n",
       "       [ 461.86683515],\n",
       "       [1661.85013242],\n",
       "       [1161.19452714],\n",
       "       [ 329.54135351],\n",
       "       [ 295.85634053],\n",
       "       [ 725.97566925],\n",
       "       [ 628.09499259],\n",
       "       [ 278.15129438],\n",
       "       [1601.23306199],\n",
       "       [ 585.22487854],\n",
       "       [ 325.10292449],\n",
       "       [ 305.82286468],\n",
       "       [ 397.26829244],\n",
       "       [ 349.55957422],\n",
       "       [ 299.95002408],\n",
       "       [ 506.77432736],\n",
       "       [ 556.04318785],\n",
       "       [ 293.54181404],\n",
       "       [ 798.14644497],\n",
       "       [ 635.08994592]])"
      ]
     },
     "execution_count": 24,
     "metadata": {},
     "output_type": "execute_result"
    }
   ],
   "source": [
    "Y_pred"
   ]
  },
  {
   "cell_type": "code",
   "execution_count": 25,
   "id": "31a915c9-8850-47d3-b93e-9f06aa17fc92",
   "metadata": {},
   "outputs": [
    {
     "data": {
      "text/plain": [
       "[<matplotlib.lines.Line2D at 0x1fd115b8a40>]"
      ]
     },
     "execution_count": 25,
     "metadata": {},
     "output_type": "execute_result"
    },
    {
     "data": {
      "image/png": "[encoded data removed]",
      "text/plain": [
       "<Figure size 640x480 with 1 Axes>"
      ]
     },
     "metadata": {},
     "output_type": "display_data"
    }
   ],
   "source": [
    "plt.scatter(X_train,Y_train)\n",
    "plt.scatter(X_train,Y_pred,color = 'red')\n",
    "plt.plot(X_train,Y_pred,color = 'black')"
   ]
  },
  {
   "cell_type": "code",
   "execution_count": 26,
   "id": "a723032e-7d2a-422c-883b-2819de475130",
   "metadata": {},
   "outputs": [
    {
     "data": {
      "text/plain": [
       "39106.83332440923"
      ]
     },
     "execution_count": 26,
     "metadata": {},
     "output_type": "execute_result"
    }
   ],
   "source": [
    "mse = mean_squared_error(X_train,Y_pred)\n",
    "mse"
   ]
  },
  {
   "cell_type": "code",
   "execution_count": 62,
   "id": "73c73ecf-126c-4c46-ac3b-b1d226f22a15",
   "metadata": {},
   "outputs": [
    {
     "data": {
      "text/plain": [
       "239.88655314607675"
      ]
     },
     "execution_count": 62,
     "metadata": {},
     "output_type": "execute_result"
    }
   ],
   "source": [
    "rmse = np.sqrt(mse)\n",
    "rmse"
   ]
  },
  {
   "cell_type": "code",
   "execution_count": 68,
   "id": "87121759-2ae0-49ee-b0a9-83433cd8333f",
   "metadata": {},
   "outputs": [
    {
     "data": {
      "image/png": "[encoded data removed]",
      "text/plain": [
       "<Figure size 640x480 with 1 Axes>"
      ]
     },
     "metadata": {},
     "output_type": "display_data"
    }
   ],
   "source": [
    "import pandas as pd\n",
    "import numpy as np\n",
    "import matplotlib.pyplot as plt\n",
    "from sklearn.model_selection import train_test_split\n",
    "from sklearn.linear_model import LinearRegression\n",
    "from sklearn.metrics import mean_squared_error, r2_score\n",
    "\n",
    "# Load data\n",
    "df = pd.read_csv('NewspaperData.csv')\n",
    "X = df[['daily']]\n",
    "Y = df[['sunday']]\n",
    "\n",
    "# Split into train and test sets\n",
    "X_train, X_test, Y_train, Y_test = train_test_split(X, Y, test_size=0.30, random_state=42)\n",
    "\n",
    "# Create and train the model\n",
    "LR = LinearRegression()\n",
    "LR.fit(X_train, Y_train)\n",
    "\n",
    "# Predict on train and test\n",
    "Y_train_pred = LR.predict(X_train)\n",
    "Y_test_pred = LR.predict(X_test)\n",
    "\n",
    "# Plotting training data and predictions\n",
    "plt.scatter(X_train, Y_train, label='Actual Train')\n",
    "plt.scatter(X_train, Y_train_pred, color='red', label='Predicted Train')\n",
    "plt.plot(X_train, Y_train_pred, color='black', linewidth=2)\n",
    "plt.legend()\n",
    "plt.title(\"Training Data and Predictions\")\n",
    "plt.xlabel(\"Daily\")\n",
    "plt.ylabel(\"Sunday\")\n",
    "plt.show()\n"
   ]
  },
  {
   "cell_type": "code",
   "execution_count": 69,
   "id": "46d9f5ba-270a-40aa-a451-2e0907bbbc2f",
   "metadata": {},
   "outputs": [
    {
     "name": "stdout",
     "output_type": "stream",
     "text": [
      "R² Train: 0.9207192135641278\n",
      "R² Test: 0.824035993488645\n",
      "RMSE Train: 116.07991995900994\n",
      "RMSE Test: 84.39462838672384\n"
     ]
    }
   ],
   "source": [
    "# R² scores\n",
    "r2_train = r2_score(Y_train, Y_train_pred)\n",
    "r2_test = r2_score(Y_test, Y_test_pred)\n",
    "\n",
    "print(\"R² Train:\", r2_train)\n",
    "print(\"R² Test:\", r2_test)\n",
    "\n",
    "# RMSE\n",
    "rmse_train = np.sqrt(mean_squared_error(Y_train, Y_train_pred))\n",
    "rmse_test = np.sqrt(mean_squared_error(Y_test, Y_test_pred))\n",
    "\n",
    "print(\"RMSE Train:\", rmse_train)\n",
    "print(\"RMSE Test:\", rmse_test)\n"
   ]
  },
  {
   "cell_type": "code",
   "execution_count": 71,
   "id": "52183be2-5e3b-4465-b222-21e56511a3d4",
   "metadata": {},
   "outputs": [
    {
     "name": "stderr",
     "output_type": "stream",
     "text": [
      "C:\\Users\\sanna\\anaconda3\\Lib\\site-packages\\sklearn\\base.py:493: UserWarning: X does not have valid feature names, but LinearRegression was fitted with feature names\n",
      "  warnings.warn(\n"
     ]
    },
    {
     "data": {
      "text/plain": [
       "array([[547.68301839]])"
      ]
     },
     "execution_count": 71,
     "metadata": {},
     "output_type": "execute_result"
    }
   ],
   "source": [
    "LR.predict([[391.952]])"
   ]
  },
  {
   "cell_type": "code",
   "execution_count": 73,
   "id": "0b42c206-445b-408c-9d30-9872667ec834",
   "metadata": {},
   "outputs": [
    {
     "name": "stdout",
     "output_type": "stream",
     "text": [
      "Predicted Sunday Circulation for Daily = 1800: 546.3811824867275\n"
     ]
    },
    {
     "name": "stderr",
     "output_type": "stream",
     "text": [
      "C:\\Users\\sanna\\anaconda3\\Lib\\site-packages\\sklearn\\base.py:493: UserWarning: X does not have valid feature names, but LinearRegression was fitted with feature names\n",
      "  warnings.warn(\n"
     ]
    }
   ],
   "source": [
    "# Predict the 'sunday' value when 'daily' is 1800\n",
    "new_daily_value = np.array([[391]])  # Note: must be 2D array\n",
    "predicted_sunday = LR.predict(new_daily_value)\n",
    "print(\"Predicted Sunday Circulation for Daily = 1800:\", predicted_sunday[0][0])"
   ]
  },
  {
   "cell_type": "code",
   "execution_count": null,
   "id": "f812e2f7-d522-47ca-bb3a-948df2fc1561",
   "metadata": {},
   "outputs": [],
   "source": []
  }
 ],
 "metadata": {
  "kernelspec": {
   "display_name": "Python 3 (ipykernel)",
   "language": "python",
   "name": "python3"
  },
  "language_info": {
   "codemirror_mode": {
    "name": "ipython",
    "version": 3
   },
   "file_extension": ".py",
   "mimetype": "text/x-python",
   "name": "python",
   "nbconvert_exporter": "python",
   "pygments_lexer": "ipython3",
   "version": "3.12.7"
  }
 },
 "nbformat": 4,
 "nbformat_minor": 5
}
